{
 "cells": [
  {
   "cell_type": "markdown",
   "metadata": {},
   "source": [
    "# Clean & Analyze Social Media"
   ]
  },
  {
   "cell_type": "markdown",
   "metadata": {},
   "source": [
    "## Introduction\n",
    "\n",
    "Social media has become a ubiquitous part of modern life, with platforms such as Instagram, Twitter, and Facebook serving as essential communication channels. Social media data sets are vast and complex, making analysis a challenging task for businesses and researchers alike. In this project, we explore a simulated social media, for example Tweets, data set to understand trends in likes across different categories.\n",
    "\n",
    "## Prerequisites\n",
    "\n",
    "To follow along with this project, you should have a basic understanding of Python programming and data analysis concepts. In addition, you may want to use the following packages in your Python environment:\n",
    "\n",
    "- pandas\n",
    "- Matplotlib\n",
    "- ...\n",
    "\n",
    "These packages should already be installed in Coursera's Jupyter Notebook environment, however if you'd like to install additional packages that are not included in this environment or are working off platform you can install additional packages using `!pip install packagename` within a notebook cell such as:\n",
    "\n",
    "- `!pip install pandas`\n",
    "- `!pip install matplotlib`\n",
    "\n",
    "## Project Scope\n",
    "\n",
    "The objective of this project is to analyze tweets (or other social media data) and gain insights into user engagement. We will explore the data set using visualization techniques to understand the distribution of likes across different categories. Finally, we will analyze the data to draw conclusions about the most popular categories and the overall engagement on the platform.\n",
    "\n",
    "## Step 1: Importing Required Libraries\n",
    "\n",
    "As the name suggests, the first step is to import all the necessary libraries that will be used in the project. In this case, we need pandas, numpy, matplotlib, seaborn, and random libraries.\n",
    "\n",
    "Pandas is a library used for data manipulation and analysis. Numpy is a library used for numerical computations. Matplotlib is a library used for data visualization. Seaborn is a library used for statistical data visualization. Random is a library used to generate random numbers."
   ]
  },
  {
   "cell_type": "code",
   "execution_count": 2,
   "metadata": {},
   "outputs": [],
   "source": [
    "import pandas as pd\n",
    "import numpy as np\n",
    "import matplotlib.pyplot as plt\n",
    "import seaborn as sns\n",
    "%matplotlib inline\n",
    "\n",
    "import warnings\n",
    "warnings.filterwarnings('ignore')"
   ]
  },
  {
   "cell_type": "code",
   "execution_count": 3,
   "metadata": {},
   "outputs": [
    {
     "data": {
      "text/html": [
       "<div>\n",
       "<style scoped>\n",
       "    .dataframe tbody tr th:only-of-type {\n",
       "        vertical-align: middle;\n",
       "    }\n",
       "\n",
       "    .dataframe tbody tr th {\n",
       "        vertical-align: top;\n",
       "    }\n",
       "\n",
       "    .dataframe thead th {\n",
       "        text-align: right;\n",
       "    }\n",
       "</style>\n",
       "<table border=\"1\" class=\"dataframe\">\n",
       "  <thead>\n",
       "    <tr style=\"text-align: right;\">\n",
       "      <th></th>\n",
       "      <th>Date</th>\n",
       "      <th>Category</th>\n",
       "      <th>Likes</th>\n",
       "      <th>Shares</th>\n",
       "      <th>Reposts</th>\n",
       "      <th>Comments</th>\n",
       "    </tr>\n",
       "  </thead>\n",
       "  <tbody>\n",
       "    <tr>\n",
       "      <th>0</th>\n",
       "      <td>2015-01-01</td>\n",
       "      <td>Fashion</td>\n",
       "      <td>7495</td>\n",
       "      <td>379</td>\n",
       "      <td>186</td>\n",
       "      <td>9386</td>\n",
       "    </tr>\n",
       "    <tr>\n",
       "      <th>1</th>\n",
       "      <td>2015-01-01</td>\n",
       "      <td>Health</td>\n",
       "      <td>1434</td>\n",
       "      <td>741</td>\n",
       "      <td>53</td>\n",
       "      <td>9397</td>\n",
       "    </tr>\n",
       "    <tr>\n",
       "      <th>2</th>\n",
       "      <td>2015-01-01</td>\n",
       "      <td>Family</td>\n",
       "      <td>6412</td>\n",
       "      <td>686</td>\n",
       "      <td>55</td>\n",
       "      <td>9525</td>\n",
       "    </tr>\n",
       "    <tr>\n",
       "      <th>3</th>\n",
       "      <td>2015-01-01</td>\n",
       "      <td>Culture</td>\n",
       "      <td>3894</td>\n",
       "      <td>914</td>\n",
       "      <td>127</td>\n",
       "      <td>9728</td>\n",
       "    </tr>\n",
       "    <tr>\n",
       "      <th>4</th>\n",
       "      <td>2015-01-01</td>\n",
       "      <td>Travel</td>\n",
       "      <td>9825</td>\n",
       "      <td>614</td>\n",
       "      <td>29</td>\n",
       "      <td>4575</td>\n",
       "    </tr>\n",
       "    <tr>\n",
       "      <th>...</th>\n",
       "      <td>...</td>\n",
       "      <td>...</td>\n",
       "      <td>...</td>\n",
       "      <td>...</td>\n",
       "      <td>...</td>\n",
       "      <td>...</td>\n",
       "    </tr>\n",
       "    <tr>\n",
       "      <th>89995</th>\n",
       "      <td>2023-12-30</td>\n",
       "      <td>Food</td>\n",
       "      <td>4435</td>\n",
       "      <td>553</td>\n",
       "      <td>165</td>\n",
       "      <td>8142</td>\n",
       "    </tr>\n",
       "    <tr>\n",
       "      <th>89996</th>\n",
       "      <td>2023-12-30</td>\n",
       "      <td>Fitness</td>\n",
       "      <td>9157</td>\n",
       "      <td>846</td>\n",
       "      <td>84</td>\n",
       "      <td>7711</td>\n",
       "    </tr>\n",
       "    <tr>\n",
       "      <th>89997</th>\n",
       "      <td>2023-12-30</td>\n",
       "      <td>Music</td>\n",
       "      <td>8197</td>\n",
       "      <td>714</td>\n",
       "      <td>97</td>\n",
       "      <td>5392</td>\n",
       "    </tr>\n",
       "    <tr>\n",
       "      <th>89998</th>\n",
       "      <td>2023-12-30</td>\n",
       "      <td>Fashion</td>\n",
       "      <td>6662</td>\n",
       "      <td>119</td>\n",
       "      <td>165</td>\n",
       "      <td>3477</td>\n",
       "    </tr>\n",
       "    <tr>\n",
       "      <th>89999</th>\n",
       "      <td>2023-12-31</td>\n",
       "      <td>Travel</td>\n",
       "      <td>8747</td>\n",
       "      <td>154</td>\n",
       "      <td>74</td>\n",
       "      <td>9426</td>\n",
       "    </tr>\n",
       "  </tbody>\n",
       "</table>\n",
       "<p>90000 rows × 6 columns</p>\n",
       "</div>"
      ],
      "text/plain": [
       "             Date Category  Likes  Shares  Reposts  Comments\n",
       "0      2015-01-01  Fashion   7495     379      186      9386\n",
       "1      2015-01-01   Health   1434     741       53      9397\n",
       "2      2015-01-01   Family   6412     686       55      9525\n",
       "3      2015-01-01  Culture   3894     914      127      9728\n",
       "4      2015-01-01   Travel   9825     614       29      4575\n",
       "...           ...      ...    ...     ...      ...       ...\n",
       "89995  2023-12-30     Food   4435     553      165      8142\n",
       "89996  2023-12-30  Fitness   9157     846       84      7711\n",
       "89997  2023-12-30    Music   8197     714       97      5392\n",
       "89998  2023-12-30  Fashion   6662     119      165      3477\n",
       "89999  2023-12-31   Travel   8747     154       74      9426\n",
       "\n",
       "[90000 rows x 6 columns]"
      ]
     },
     "execution_count": 3,
     "metadata": {},
     "output_type": "execute_result"
    }
   ],
   "source": [
    "df = pd.read_csv('Twitter_Analysis.csv')\n",
    "df"
   ]
  },
  {
   "cell_type": "code",
   "execution_count": 4,
   "metadata": {},
   "outputs": [
    {
     "data": {
      "text/html": [
       "<div>\n",
       "<style scoped>\n",
       "    .dataframe tbody tr th:only-of-type {\n",
       "        vertical-align: middle;\n",
       "    }\n",
       "\n",
       "    .dataframe tbody tr th {\n",
       "        vertical-align: top;\n",
       "    }\n",
       "\n",
       "    .dataframe thead th {\n",
       "        text-align: right;\n",
       "    }\n",
       "</style>\n",
       "<table border=\"1\" class=\"dataframe\">\n",
       "  <thead>\n",
       "    <tr style=\"text-align: right;\">\n",
       "      <th></th>\n",
       "      <th>Likes</th>\n",
       "      <th>Shares</th>\n",
       "      <th>Reposts</th>\n",
       "      <th>Comments</th>\n",
       "    </tr>\n",
       "  </thead>\n",
       "  <tbody>\n",
       "    <tr>\n",
       "      <th>count</th>\n",
       "      <td>90000.000000</td>\n",
       "      <td>90000.000000</td>\n",
       "      <td>90000.000000</td>\n",
       "      <td>90000.000000</td>\n",
       "    </tr>\n",
       "    <tr>\n",
       "      <th>mean</th>\n",
       "      <td>4988.509044</td>\n",
       "      <td>500.666144</td>\n",
       "      <td>99.790622</td>\n",
       "      <td>5008.241367</td>\n",
       "    </tr>\n",
       "    <tr>\n",
       "      <th>std</th>\n",
       "      <td>2886.904448</td>\n",
       "      <td>288.712012</td>\n",
       "      <td>57.751705</td>\n",
       "      <td>2887.542860</td>\n",
       "    </tr>\n",
       "    <tr>\n",
       "      <th>min</th>\n",
       "      <td>0.000000</td>\n",
       "      <td>0.000000</td>\n",
       "      <td>0.000000</td>\n",
       "      <td>0.000000</td>\n",
       "    </tr>\n",
       "    <tr>\n",
       "      <th>25%</th>\n",
       "      <td>2467.000000</td>\n",
       "      <td>250.000000</td>\n",
       "      <td>50.000000</td>\n",
       "      <td>2509.000000</td>\n",
       "    </tr>\n",
       "    <tr>\n",
       "      <th>50%</th>\n",
       "      <td>4996.000000</td>\n",
       "      <td>502.000000</td>\n",
       "      <td>100.000000</td>\n",
       "      <td>5018.500000</td>\n",
       "    </tr>\n",
       "    <tr>\n",
       "      <th>75%</th>\n",
       "      <td>7485.000000</td>\n",
       "      <td>750.000000</td>\n",
       "      <td>150.000000</td>\n",
       "      <td>7509.000000</td>\n",
       "    </tr>\n",
       "    <tr>\n",
       "      <th>max</th>\n",
       "      <td>9999.000000</td>\n",
       "      <td>999.000000</td>\n",
       "      <td>199.000000</td>\n",
       "      <td>9999.000000</td>\n",
       "    </tr>\n",
       "  </tbody>\n",
       "</table>\n",
       "</div>"
      ],
      "text/plain": [
       "              Likes        Shares       Reposts      Comments\n",
       "count  90000.000000  90000.000000  90000.000000  90000.000000\n",
       "mean    4988.509044    500.666144     99.790622   5008.241367\n",
       "std     2886.904448    288.712012     57.751705   2887.542860\n",
       "min        0.000000      0.000000      0.000000      0.000000\n",
       "25%     2467.000000    250.000000     50.000000   2509.000000\n",
       "50%     4996.000000    502.000000    100.000000   5018.500000\n",
       "75%     7485.000000    750.000000    150.000000   7509.000000\n",
       "max     9999.000000    999.000000    199.000000   9999.000000"
      ]
     },
     "execution_count": 4,
     "metadata": {},
     "output_type": "execute_result"
    }
   ],
   "source": [
    "df.describe()"
   ]
  },
  {
   "cell_type": "code",
   "execution_count": 5,
   "metadata": {},
   "outputs": [
    {
     "name": "stdout",
     "output_type": "stream",
     "text": [
      "Unique Categories: ['Fashion' 'Health' 'Family' 'Culture' 'Travel' 'Fitness' 'Music' 'Food']\n"
     ]
    }
   ],
   "source": [
    "print(\"Unique Categories:\", df['Category'].unique())"
   ]
  },
  {
   "cell_type": "code",
   "execution_count": 6,
   "metadata": {},
   "outputs": [
    {
     "data": {
      "text/html": [
       "<div>\n",
       "<style scoped>\n",
       "    .dataframe tbody tr th:only-of-type {\n",
       "        vertical-align: middle;\n",
       "    }\n",
       "\n",
       "    .dataframe tbody tr th {\n",
       "        vertical-align: top;\n",
       "    }\n",
       "\n",
       "    .dataframe thead th {\n",
       "        text-align: right;\n",
       "    }\n",
       "</style>\n",
       "<table border=\"1\" class=\"dataframe\">\n",
       "  <thead>\n",
       "    <tr style=\"text-align: right;\">\n",
       "      <th></th>\n",
       "      <th>Date</th>\n",
       "      <th>Category</th>\n",
       "      <th>Likes</th>\n",
       "      <th>Shares</th>\n",
       "      <th>Reposts</th>\n",
       "      <th>Comments</th>\n",
       "    </tr>\n",
       "  </thead>\n",
       "  <tbody>\n",
       "    <tr>\n",
       "      <th>0</th>\n",
       "      <td>2015-01-01</td>\n",
       "      <td>Fashion</td>\n",
       "      <td>7495</td>\n",
       "      <td>379</td>\n",
       "      <td>186</td>\n",
       "      <td>9386</td>\n",
       "    </tr>\n",
       "    <tr>\n",
       "      <th>1</th>\n",
       "      <td>2015-01-01</td>\n",
       "      <td>Health</td>\n",
       "      <td>1434</td>\n",
       "      <td>741</td>\n",
       "      <td>53</td>\n",
       "      <td>9397</td>\n",
       "    </tr>\n",
       "    <tr>\n",
       "      <th>2</th>\n",
       "      <td>2015-01-01</td>\n",
       "      <td>Family</td>\n",
       "      <td>6412</td>\n",
       "      <td>686</td>\n",
       "      <td>55</td>\n",
       "      <td>9525</td>\n",
       "    </tr>\n",
       "    <tr>\n",
       "      <th>3</th>\n",
       "      <td>2015-01-01</td>\n",
       "      <td>Culture</td>\n",
       "      <td>3894</td>\n",
       "      <td>914</td>\n",
       "      <td>127</td>\n",
       "      <td>9728</td>\n",
       "    </tr>\n",
       "    <tr>\n",
       "      <th>4</th>\n",
       "      <td>2015-01-01</td>\n",
       "      <td>Travel</td>\n",
       "      <td>9825</td>\n",
       "      <td>614</td>\n",
       "      <td>29</td>\n",
       "      <td>4575</td>\n",
       "    </tr>\n",
       "  </tbody>\n",
       "</table>\n",
       "</div>"
      ],
      "text/plain": [
       "         Date Category  Likes  Shares  Reposts  Comments\n",
       "0  2015-01-01  Fashion   7495     379      186      9386\n",
       "1  2015-01-01   Health   1434     741       53      9397\n",
       "2  2015-01-01   Family   6412     686       55      9525\n",
       "3  2015-01-01  Culture   3894     914      127      9728\n",
       "4  2015-01-01   Travel   9825     614       29      4575"
      ]
     },
     "execution_count": 6,
     "metadata": {},
     "output_type": "execute_result"
    }
   ],
   "source": [
    "df.head()"
   ]
  },
  {
   "cell_type": "code",
   "execution_count": 7,
   "metadata": {},
   "outputs": [
    {
     "data": {
      "text/plain": [
       "Date        object\n",
       "Category    object\n",
       "Likes        int64\n",
       "Shares       int64\n",
       "Reposts      int64\n",
       "Comments     int64\n",
       "dtype: object"
      ]
     },
     "execution_count": 7,
     "metadata": {},
     "output_type": "execute_result"
    }
   ],
   "source": [
    "df.dtypes"
   ]
  },
  {
   "cell_type": "code",
   "execution_count": 8,
   "metadata": {},
   "outputs": [
    {
     "data": {
      "text/html": [
       "<div>\n",
       "<style scoped>\n",
       "    .dataframe tbody tr th:only-of-type {\n",
       "        vertical-align: middle;\n",
       "    }\n",
       "\n",
       "    .dataframe tbody tr th {\n",
       "        vertical-align: top;\n",
       "    }\n",
       "\n",
       "    .dataframe thead th {\n",
       "        text-align: right;\n",
       "    }\n",
       "</style>\n",
       "<table border=\"1\" class=\"dataframe\">\n",
       "  <thead>\n",
       "    <tr style=\"text-align: right;\">\n",
       "      <th></th>\n",
       "      <th>Likes</th>\n",
       "      <th>Shares</th>\n",
       "      <th>Reposts</th>\n",
       "      <th>Comments</th>\n",
       "    </tr>\n",
       "  </thead>\n",
       "  <tbody>\n",
       "    <tr>\n",
       "      <th>Likes</th>\n",
       "      <td>1.000000</td>\n",
       "      <td>-0.001874</td>\n",
       "      <td>-0.005995</td>\n",
       "      <td>-0.000187</td>\n",
       "    </tr>\n",
       "    <tr>\n",
       "      <th>Shares</th>\n",
       "      <td>-0.001874</td>\n",
       "      <td>1.000000</td>\n",
       "      <td>0.000171</td>\n",
       "      <td>-0.006051</td>\n",
       "    </tr>\n",
       "    <tr>\n",
       "      <th>Reposts</th>\n",
       "      <td>-0.005995</td>\n",
       "      <td>0.000171</td>\n",
       "      <td>1.000000</td>\n",
       "      <td>-0.003912</td>\n",
       "    </tr>\n",
       "    <tr>\n",
       "      <th>Comments</th>\n",
       "      <td>-0.000187</td>\n",
       "      <td>-0.006051</td>\n",
       "      <td>-0.003912</td>\n",
       "      <td>1.000000</td>\n",
       "    </tr>\n",
       "  </tbody>\n",
       "</table>\n",
       "</div>"
      ],
      "text/plain": [
       "             Likes    Shares   Reposts  Comments\n",
       "Likes     1.000000 -0.001874 -0.005995 -0.000187\n",
       "Shares   -0.001874  1.000000  0.000171 -0.006051\n",
       "Reposts  -0.005995  0.000171  1.000000 -0.003912\n",
       "Comments -0.000187 -0.006051 -0.003912  1.000000"
      ]
     },
     "execution_count": 8,
     "metadata": {},
     "output_type": "execute_result"
    }
   ],
   "source": [
    "df.corr()"
   ]
  },
  {
   "cell_type": "code",
   "execution_count": 9,
   "metadata": {},
   "outputs": [
    {
     "data": {
      "text/plain": [
       "Index(['Likes', 'Shares', 'Reposts', 'Comments'], dtype='object')"
      ]
     },
     "execution_count": 9,
     "metadata": {},
     "output_type": "execute_result"
    }
   ],
   "source": [
    "numeric_features = df.select_dtypes(include=[np.int64,np.float64])\n",
    "\n",
    "numeric_features.columns"
   ]
  },
  {
   "cell_type": "code",
   "execution_count": 10,
   "metadata": {},
   "outputs": [
    {
     "data": {
      "text/plain": [
       "Index(['Date', 'Category'], dtype='object')"
      ]
     },
     "execution_count": 10,
     "metadata": {},
     "output_type": "execute_result"
    }
   ],
   "source": [
    "categorical_features = df.select_dtypes(include=[object])\n",
    "\n",
    "categorical_features.columns"
   ]
  },
  {
   "cell_type": "code",
   "execution_count": 11,
   "metadata": {},
   "outputs": [
    {
     "data": {
      "image/png": "[encoded data removed]",
      "text/plain": [
       "<Figure size 1152x1440 with 4 Axes>"
      ]
     },
     "metadata": {
      "needs_background": "light"
     },
     "output_type": "display_data"
    }
   ],
   "source": [
    "# Plot histograms with adjusted bins and log scale if needed\n",
    "numeric_features.hist(figsize=(16, 20), bins=30, xlabelsize=8, ylabelsize=8, log=True)  # Adjust bins as needed\n",
    "plt.suptitle('Histogram of Numeric Features', fontsize=16)\n",
    "plt.show()\n"
   ]
  },
  {
   "cell_type": "code",
   "execution_count": 12,
   "metadata": {},
   "outputs": [
    {
     "name": "stdout",
     "output_type": "stream",
     "text": [
      "Likes       0.003306\n",
      "Shares     -0.010517\n",
      "Reposts    -0.004870\n",
      "Comments   -0.002171\n",
      "dtype: float64\n"
     ]
    }
   ],
   "source": [
    "# Calculate skewness for numeric features\n",
    "skewness = numeric_features.skew()\n",
    "print(skewness)\n"
   ]
  },
  {
   "cell_type": "code",
   "execution_count": 13,
   "metadata": {},
   "outputs": [
    {
     "data": {
      "image/png": "[encoded data removed]",
      "text/plain": [
       "<Figure size 720x432 with 1 Axes>"
      ]
     },
     "metadata": {
      "needs_background": "light"
     },
     "output_type": "display_data"
    }
   ],
   "source": [
    "# Plot bar plot of skewness for each numeric feature\n",
    "plt.figure(figsize=(10, 6))\n",
    "sns.barplot(x=skewness.index, y=skewness.values, palette='viridis')\n",
    "plt.title('Skewness of Numeric Features', fontsize=16)\n",
    "plt.xlabel('Features', fontsize=12)\n",
    "plt.ylabel('Skewness', fontsize=12)\n",
    "plt.xticks(rotation=45)\n",
    "plt.show()\n",
    "\n"
   ]
  },
  {
   "cell_type": "code",
   "execution_count": 14,
   "metadata": {},
   "outputs": [
    {
     "data": {
      "text/html": [
       "<div>\n",
       "<style scoped>\n",
       "    .dataframe tbody tr th:only-of-type {\n",
       "        vertical-align: middle;\n",
       "    }\n",
       "\n",
       "    .dataframe tbody tr th {\n",
       "        vertical-align: top;\n",
       "    }\n",
       "\n",
       "    .dataframe thead th {\n",
       "        text-align: right;\n",
       "    }\n",
       "</style>\n",
       "<table border=\"1\" class=\"dataframe\">\n",
       "  <thead>\n",
       "    <tr style=\"text-align: right;\">\n",
       "      <th></th>\n",
       "      <th>Date</th>\n",
       "      <th>Category</th>\n",
       "    </tr>\n",
       "  </thead>\n",
       "  <tbody>\n",
       "    <tr>\n",
       "      <th>count</th>\n",
       "      <td>90000</td>\n",
       "      <td>90000</td>\n",
       "    </tr>\n",
       "    <tr>\n",
       "      <th>unique</th>\n",
       "      <td>3287</td>\n",
       "      <td>8</td>\n",
       "    </tr>\n",
       "    <tr>\n",
       "      <th>top</th>\n",
       "      <td>2021-01-24</td>\n",
       "      <td>Food</td>\n",
       "    </tr>\n",
       "    <tr>\n",
       "      <th>freq</th>\n",
       "      <td>28</td>\n",
       "      <td>11360</td>\n",
       "    </tr>\n",
       "  </tbody>\n",
       "</table>\n",
       "</div>"
      ],
      "text/plain": [
       "              Date Category\n",
       "count        90000    90000\n",
       "unique        3287        8\n",
       "top     2021-01-24     Food\n",
       "freq            28    11360"
      ]
     },
     "execution_count": 14,
     "metadata": {},
     "output_type": "execute_result"
    }
   ],
   "source": [
    "df.describe(include=['object'])"
   ]
  },
  {
   "cell_type": "code",
   "execution_count": 15,
   "metadata": {},
   "outputs": [
    {
     "data": {
      "text/html": [
       "<div>\n",
       "<style scoped>\n",
       "    .dataframe tbody tr th:only-of-type {\n",
       "        vertical-align: middle;\n",
       "    }\n",
       "\n",
       "    .dataframe tbody tr th {\n",
       "        vertical-align: top;\n",
       "    }\n",
       "\n",
       "    .dataframe thead th {\n",
       "        text-align: right;\n",
       "    }\n",
       "</style>\n",
       "<table border=\"1\" class=\"dataframe\">\n",
       "  <thead>\n",
       "    <tr style=\"text-align: right;\">\n",
       "      <th></th>\n",
       "      <th>Likes</th>\n",
       "      <th>Shares</th>\n",
       "      <th>Reposts</th>\n",
       "      <th>Comments</th>\n",
       "    </tr>\n",
       "  </thead>\n",
       "  <tbody>\n",
       "    <tr>\n",
       "      <th>count</th>\n",
       "      <td>90000.000000</td>\n",
       "      <td>90000.000000</td>\n",
       "      <td>90000.000000</td>\n",
       "      <td>90000.000000</td>\n",
       "    </tr>\n",
       "    <tr>\n",
       "      <th>mean</th>\n",
       "      <td>4988.509044</td>\n",
       "      <td>500.666144</td>\n",
       "      <td>99.790622</td>\n",
       "      <td>5008.241367</td>\n",
       "    </tr>\n",
       "    <tr>\n",
       "      <th>std</th>\n",
       "      <td>2886.904448</td>\n",
       "      <td>288.712012</td>\n",
       "      <td>57.751705</td>\n",
       "      <td>2887.542860</td>\n",
       "    </tr>\n",
       "    <tr>\n",
       "      <th>min</th>\n",
       "      <td>0.000000</td>\n",
       "      <td>0.000000</td>\n",
       "      <td>0.000000</td>\n",
       "      <td>0.000000</td>\n",
       "    </tr>\n",
       "    <tr>\n",
       "      <th>25%</th>\n",
       "      <td>2467.000000</td>\n",
       "      <td>250.000000</td>\n",
       "      <td>50.000000</td>\n",
       "      <td>2509.000000</td>\n",
       "    </tr>\n",
       "    <tr>\n",
       "      <th>50%</th>\n",
       "      <td>4996.000000</td>\n",
       "      <td>502.000000</td>\n",
       "      <td>100.000000</td>\n",
       "      <td>5018.500000</td>\n",
       "    </tr>\n",
       "    <tr>\n",
       "      <th>75%</th>\n",
       "      <td>7485.000000</td>\n",
       "      <td>750.000000</td>\n",
       "      <td>150.000000</td>\n",
       "      <td>7509.000000</td>\n",
       "    </tr>\n",
       "    <tr>\n",
       "      <th>max</th>\n",
       "      <td>9999.000000</td>\n",
       "      <td>999.000000</td>\n",
       "      <td>199.000000</td>\n",
       "      <td>9999.000000</td>\n",
       "    </tr>\n",
       "  </tbody>\n",
       "</table>\n",
       "</div>"
      ],
      "text/plain": [
       "              Likes        Shares       Reposts      Comments\n",
       "count  90000.000000  90000.000000  90000.000000  90000.000000\n",
       "mean    4988.509044    500.666144     99.790622   5008.241367\n",
       "std     2886.904448    288.712012     57.751705   2887.542860\n",
       "min        0.000000      0.000000      0.000000      0.000000\n",
       "25%     2467.000000    250.000000     50.000000   2509.000000\n",
       "50%     4996.000000    502.000000    100.000000   5018.500000\n",
       "75%     7485.000000    750.000000    150.000000   7509.000000\n",
       "max     9999.000000    999.000000    199.000000   9999.000000"
      ]
     },
     "execution_count": 15,
     "metadata": {},
     "output_type": "execute_result"
    }
   ],
   "source": [
    "df.describe(include=['int64'])"
   ]
  },
  {
   "cell_type": "markdown",
   "metadata": {},
   "source": [
    "Exploratory Data Analysis"
   ]
  },
  {
   "cell_type": "code",
   "execution_count": 16,
   "metadata": {},
   "outputs": [
    {
     "name": "stdout",
     "output_type": "stream",
     "text": [
      "Dataset Shape:  (90000, 6)\n",
      "\n",
      "Columns:  Index(['Date', 'Category', 'Likes', 'Shares', 'Reposts', 'Comments'], dtype='object')\n",
      "\n",
      "Missing Data: \n",
      " Date        0\n",
      "Category    0\n",
      "Likes       0\n",
      "Shares      0\n",
      "Reposts     0\n",
      "Comments    0\n",
      "dtype: int64\n"
     ]
    }
   ],
   "source": [
    "print(\"Dataset Shape: \", df.shape)\n",
    "print(\"\\nColumns: \", df.columns)\n",
    "print(\"\\nMissing Data: \\n\", df.isnull().sum())\n"
   ]
  },
  {
   "cell_type": "code",
   "execution_count": 17,
   "metadata": {},
   "outputs": [
    {
     "data": {
      "text/plain": [
       "Food       11360\n",
       "Culture    11329\n",
       "Music      11287\n",
       "Fitness    11258\n",
       "Health     11247\n",
       "Fashion    11237\n",
       "Family     11186\n",
       "Travel     11096\n",
       "Name: Category, dtype: int64"
      ]
     },
     "execution_count": 17,
     "metadata": {},
     "output_type": "execute_result"
    }
   ],
   "source": [
    "df['Category'].value_counts()"
   ]
  },
  {
   "cell_type": "code",
   "execution_count": 18,
   "metadata": {},
   "outputs": [
    {
     "data": {
      "image/png": "[encoded data removed]",
      "text/plain": [
       "<Figure size 864x576 with 1 Axes>"
      ]
     },
     "metadata": {
      "needs_background": "light"
     },
     "output_type": "display_data"
    }
   ],
   "source": [
    "plt.figure(figsize=(12, 8))\n",
    "sns.countplot(data=df, x='Category', palette='viridis')\n",
    "plt.title('Category Distribution (Log Scale)', fontsize=16)\n",
    "plt.xlabel('Categories', fontsize=12)\n",
    "plt.ylabel('Count', fontsize=12)\n",
    "plt.xticks(rotation=45)\n",
    "\n",
    "# Apply log scale on y-axis\n",
    "plt.yscale('log')\n",
    "plt.show()\n"
   ]
  },
  {
   "cell_type": "code",
   "execution_count": 19,
   "metadata": {},
   "outputs": [],
   "source": [
    "df_group = df[['Category','Likes','Reposts']]"
   ]
  },
  {
   "cell_type": "code",
   "execution_count": 20,
   "metadata": {},
   "outputs": [
    {
     "data": {
      "text/html": [
       "<div>\n",
       "<style scoped>\n",
       "    .dataframe tbody tr th:only-of-type {\n",
       "        vertical-align: middle;\n",
       "    }\n",
       "\n",
       "    .dataframe tbody tr th {\n",
       "        vertical-align: top;\n",
       "    }\n",
       "\n",
       "    .dataframe thead th {\n",
       "        text-align: right;\n",
       "    }\n",
       "</style>\n",
       "<table border=\"1\" class=\"dataframe\">\n",
       "  <thead>\n",
       "    <tr style=\"text-align: right;\">\n",
       "      <th></th>\n",
       "      <th>Category</th>\n",
       "      <th>Likes</th>\n",
       "      <th>Reposts</th>\n",
       "    </tr>\n",
       "  </thead>\n",
       "  <tbody>\n",
       "    <tr>\n",
       "      <th>0</th>\n",
       "      <td>Culture</td>\n",
       "      <td>4981.837055</td>\n",
       "      <td>99.366140</td>\n",
       "    </tr>\n",
       "    <tr>\n",
       "      <th>1</th>\n",
       "      <td>Family</td>\n",
       "      <td>4992.789648</td>\n",
       "      <td>99.588235</td>\n",
       "    </tr>\n",
       "    <tr>\n",
       "      <th>2</th>\n",
       "      <td>Fashion</td>\n",
       "      <td>5013.476907</td>\n",
       "      <td>99.657560</td>\n",
       "    </tr>\n",
       "    <tr>\n",
       "      <th>3</th>\n",
       "      <td>Fitness</td>\n",
       "      <td>4981.561379</td>\n",
       "      <td>99.605525</td>\n",
       "    </tr>\n",
       "    <tr>\n",
       "      <th>4</th>\n",
       "      <td>Food</td>\n",
       "      <td>4977.206954</td>\n",
       "      <td>98.776320</td>\n",
       "    </tr>\n",
       "    <tr>\n",
       "      <th>5</th>\n",
       "      <td>Health</td>\n",
       "      <td>5018.536410</td>\n",
       "      <td>100.090424</td>\n",
       "    </tr>\n",
       "    <tr>\n",
       "      <th>6</th>\n",
       "      <td>Music</td>\n",
       "      <td>4979.910960</td>\n",
       "      <td>101.226012</td>\n",
       "    </tr>\n",
       "    <tr>\n",
       "      <th>7</th>\n",
       "      <td>Travel</td>\n",
       "      <td>4962.650865</td>\n",
       "      <td>100.025054</td>\n",
       "    </tr>\n",
       "  </tbody>\n",
       "</table>\n",
       "</div>"
      ],
      "text/plain": [
       "  Category        Likes     Reposts\n",
       "0  Culture  4981.837055   99.366140\n",
       "1   Family  4992.789648   99.588235\n",
       "2  Fashion  5013.476907   99.657560\n",
       "3  Fitness  4981.561379   99.605525\n",
       "4     Food  4977.206954   98.776320\n",
       "5   Health  5018.536410  100.090424\n",
       "6    Music  4979.910960  101.226012\n",
       "7   Travel  4962.650865  100.025054"
      ]
     },
     "execution_count": 20,
     "metadata": {},
     "output_type": "execute_result"
    }
   ],
   "source": [
    "df_group = df_group.groupby(['Category'],as_index=False).mean()\n",
    "df_group"
   ]
  },
  {
   "cell_type": "code",
   "execution_count": 21,
   "metadata": {},
   "outputs": [
    {
     "data": {
      "image/png": "[encoded data removed]",
      "text/plain": [
       "<Figure size 864x576 with 1 Axes>"
      ]
     },
     "metadata": {
      "needs_background": "light"
     },
     "output_type": "display_data"
    },
    {
     "data": {
      "image/png": "[encoded data removed]",
      "text/plain": [
       "<Figure size 864x576 with 1 Axes>"
      ]
     },
     "metadata": {
      "needs_background": "light"
     },
     "output_type": "display_data"
    }
   ],
   "source": [
    "# Plot the average Likes per Category\n",
    "plt.figure(figsize=(12, 8))\n",
    "sns.barplot(data=df_group, x='Category', y='Likes', palette='viridis')\n",
    "plt.title('Average Likes per Category (Log Scale)', fontsize=16)\n",
    "plt.xlabel('Category', fontsize=12)\n",
    "plt.ylabel('Average Likes', fontsize=12)\n",
    "plt.xticks(rotation=45)\n",
    "plt.yscale('log')\n",
    "plt.show()\n",
    "\n",
    "# Plot the average Reposts per Category\n",
    "plt.figure(figsize=(12, 8))\n",
    "sns.barplot(data=df_group, x='Category', y='Reposts', palette='viridis')\n",
    "plt.title('Average Reposts per Category (Log Scale)', fontsize=16)\n",
    "plt.xlabel('Category', fontsize=12)\n",
    "plt.ylabel('Average Reposts', fontsize=12)\n",
    "plt.xticks(rotation=45)\n",
    "plt.yscale('log')\n",
    "plt.show()\n"
   ]
  },
  {
   "cell_type": "markdown",
   "metadata": {},
   "source": [
    "Pearson Correlation helps in defining Linear Correlation between two variables."
   ]
  },
  {
   "cell_type": "code",
   "execution_count": 22,
   "metadata": {},
   "outputs": [
    {
     "name": "stdout",
     "output_type": "stream",
     "text": [
      "The PearsonR between Likes and Likes is 1.0 with a P-value of P = 0.0\n",
      "Correlation between Likes and Likes is statistically significant..\n",
      "Coeff ~1.0 shows that the relationship is positive and very strong.\n",
      "\n",
      "The PearsonR between Shares and Likes is -0.0019 with a P-value of P = 0.574\n",
      "Correlation between Shares and Likes is statistically not significant..\n",
      "Coefficient ~-0.0019 shows that the relationship is negative and weak.\n",
      "\n",
      "The PearsonR between Reposts and Likes is -0.006 with a P-value of P = 0.0721\n",
      "Correlation between Reposts and Likes is statistically weak..\n",
      "Coefficient ~-0.006 shows that the relationship is negative and weak.\n",
      "\n",
      "The PearsonR between Comments and Likes is -0.0002 with a P-value of P = 0.9552\n",
      "Correlation between Comments and Likes is statistically not significant..\n",
      "Coefficient ~-0.0002 shows that the relationship is negative and weak.\n",
      "\n"
     ]
    }
   ],
   "source": [
    "from scipy import stats\n",
    "\n",
    "# Columns for correlation analysis\n",
    "cols = ['Likes', 'Shares', 'Reposts', 'Comments']\n",
    "\n",
    "# Calculate Pearson Correlation Coefficient and P-value\n",
    "for col in cols:\n",
    "    pearson_coef, p_value = stats.pearsonr(df[col], df['Likes'])\n",
    "    \n",
    "    # Print the Pearson correlation and p-value\n",
    "    print(f\"The PearsonR between {col} and Likes is {round(pearson_coef, 4)} with a P-value of P = {round(p_value, 4)}\")\n",
    "    \n",
    "    # Statistical significance based on p-value\n",
    "    if p_value < 0.001:\n",
    "        print(f'Correlation between {col} and Likes is statistically significant..')\n",
    "    elif p_value < 0.05:\n",
    "        print(f'Correlation between {col} and Likes is statistically moderate..')\n",
    "    elif p_value < 0.1:\n",
    "        print(f'Correlation between {col} and Likes is statistically weak..')\n",
    "    else:\n",
    "        print(f'Correlation between {col} and Likes is statistically not significant..')\n",
    "\n",
    "    # Evaluate the strength and direction of the correlation\n",
    "    if pearson_coef > 0:\n",
    "        if pearson_coef > 0.85:\n",
    "            print(f'Coeff ~{round(pearson_coef, 4)} shows that the relationship is positive and very strong.\\n')\n",
    "        elif pearson_coef > 0.75:\n",
    "            print(f'Coeff ~{round(pearson_coef, 4)} shows that the relationship is positive and quite strong.\\n')\n",
    "        elif pearson_coef > 0.60:\n",
    "            print(f'Coeff ~{round(pearson_coef, 4)} shows that the relationship is positive and moderately strong.\\n')\n",
    "        elif pearson_coef > 0.50:\n",
    "            print(f'Coeff ~{round(pearson_coef, 4)} shows that the relationship is positive and only moderate.\\n')\n",
    "        else:\n",
    "            print(f'Coefficient ~{round(pearson_coef, 4)} shows that the relationship is positive and weak.\\n')\n",
    "    else:\n",
    "        if abs(pearson_coef) > 0.85:\n",
    "            print(f'Coeff ~{round(pearson_coef, 4)} shows that the relationship is negative and very strong.\\n')\n",
    "        elif abs(pearson_coef) > 0.75:\n",
    "            print(f'Coeff ~{round(pearson_coef, 4)} shows that the relationship is negative and quite strong.\\n')\n",
    "        elif abs(pearson_coef) > 0.60:\n",
    "            print(f'Coeff ~{round(pearson_coef, 4)} shows that the relationship is negative and moderately strong.\\n')\n",
    "        elif abs(pearson_coef) > 0.50:\n",
    "            print(f'Coeff ~{round(pearson_coef, 4)} shows that the relationship is negative and only moderate.\\n')\n",
    "        else:\n",
    "            print(f'Coefficient ~{round(pearson_coef, 4)} shows that the relationship is negative and weak.\\n')\n"
   ]
  },
  {
   "cell_type": "markdown",
   "metadata": {},
   "source": [
    "A heatmap shows the variation of a continuous value across two dimensions."
   ]
  },
  {
   "cell_type": "code",
   "execution_count": 23,
   "metadata": {},
   "outputs": [
    {
     "name": "stdout",
     "output_type": "stream",
     "text": [
      "Top correlated features:\n",
      " Index(['Likes', 'Comments', 'Shares', 'Reposts'], dtype='object')\n"
     ]
    },
    {
     "data": {
      "image/png": "[encoded data removed]",
      "text/plain": [
       "<Figure size 1008x864 with 2 Axes>"
      ]
     },
     "metadata": {
      "needs_background": "light"
     },
     "output_type": "display_data"
    }
   ],
   "source": [
    "# Number of top correlated features to consider\n",
    "k = 11  \n",
    "\n",
    "# Compute correlation matrix\n",
    "correlation = numeric_features.corr()\n",
    "\n",
    "# Select the top 'k' features most correlated with 'Likes'\n",
    "cols = correlation.nlargest(k, 'Likes')['Likes'].index\n",
    "print(\"Top correlated features:\\n\", cols)\n",
    "\n",
    "# Compute correlation coefficients for selected features\n",
    "cm = np.corrcoef(df[cols].values.T)\n",
    "\n",
    "# Plot heatmap\n",
    "plt.figure(figsize=(14, 12))\n",
    "sns.heatmap(cm, annot=True, cmap='viridis', vmax=.8, linewidths=0.01, \n",
    "            square=True, linecolor=\"white\", xticklabels=cols, \n",
    "            yticklabels=cols, annot_kws={'size': 12})\n",
    "plt.title(\"Heatmap of Top Correlated Features\")\n",
    "plt.show()\n"
   ]
  },
  {
   "cell_type": "code",
   "execution_count": null,
   "metadata": {},
   "outputs": [],
   "source": []
  }
 ],
 "metadata": {
  "kernelspec": {
   "display_name": "Python 3",
   "language": "python",
   "name": "python3"
  },
  "language_info": {
   "codemirror_mode": {
    "name": "ipython",
    "version": 3
   },
   "file_extension": ".py",
   "mimetype": "text/x-python",
   "name": "python",
   "nbconvert_exporter": "python",
   "pygments_lexer": "ipython3",
   "version": "3.7.6"
  }
 },
 "nbformat": 4,
 "nbformat_minor": 4
}
